{
 "cells": [
  {
   "cell_type": "code",
   "execution_count": 5,
   "id": "b5f80382",
   "metadata": {},
   "outputs": [
    {
     "name": "stdout",
     "output_type": "stream",
     "text": [
      "(['Old boy', 'Simple', 'Attenuate', 'Shy ones', 'Toxic things', 'Silent words', 'Big daddy', 'Juvenile', 'Mothers love', 'The Foxes', 'IT today'], ['The living light', 'Nigeria election'], ['Happy', 'Brave'])\n"
     ]
    }
   ],
   "source": [
    "data=['The living light', 'Happy', 'Brave', 'Old boy','Simple', 'Attenuate', 'Shy ones', 'Toxic things',\n",
    "     'Silent words', 'Big daddy', 'Juvenile', 'Mothers love', 'The Foxes', 'Nigeria election', 'IT today']\n",
    "def lstItems(data):\n",
    "    greater5less15=[]\n",
    "    greater15=[]\n",
    "    notfit=[]\n",
    "    \n",
    "    for hello in data:\n",
    "        a=len(hello)>5\n",
    "        b=len(hello)<15\n",
    "        c=len(hello)>15\n",
    "        if a and b:\n",
    "            greater5less15.append(hello)\n",
    "        elif c:\n",
    "            greater15.append(hello)\n",
    "        else:\n",
    "            notfit.append(hello)\n",
    "    return greater5less15, greater15, notfit\n",
    "y=lstItems(data)\n",
    "print(y)\n",
    "        "
   ]
  },
  {
   "cell_type": "code",
   "execution_count": null,
   "id": "acbaa389",
   "metadata": {},
   "outputs": [],
   "source": []
  }
 ],
 "metadata": {
  "kernelspec": {
   "display_name": "Python 3 (ipykernel)",
   "language": "python",
   "name": "python3"
  },
  "language_info": {
   "codemirror_mode": {
    "name": "ipython",
    "version": 3
   },
   "file_extension": ".py",
   "mimetype": "text/x-python",
   "name": "python",
   "nbconvert_exporter": "python",
   "pygments_lexer": "ipython3",
   "version": "3.11.1"
  }
 },
 "nbformat": 4,
 "nbformat_minor": 5
}
